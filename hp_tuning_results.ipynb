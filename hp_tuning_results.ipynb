{
 "cells": [
  {
   "cell_type": "code",
   "execution_count": null,
   "metadata": {},
   "outputs": [],
   "source": [
    "import pandas as pd\n",
    "import numpy as np\n",
    "\n",
    "import keras\n",
    "import keras_tuner\n",
    "from hp_tuning__v1_multi import LSTMHypermodel\n",
    "from hp_tuning__v1_multi import TRAINING_WINDOW_SIZE, PREDICTED_WINDOW_SIZE, N_FEATURES_SEQ, N_FEATURES_STC, N_SAMPLES, BATCH_SIZE"
   ]
  },
  {
   "cell_type": "code",
   "execution_count": null,
   "metadata": {},
   "outputs": [],
   "source": [
    "PROJECT = 'try1230'\n",
    "\n",
    "lstm_hypermodel = LSTMHypermodel(\n",
    "    training_window_size=TRAINING_WINDOW_SIZE,\n",
    "    predicted_window_size=PREDICTED_WINDOW_SIZE, \n",
    "    n_features_seq=N_FEATURES_SEQ, \n",
    "    n_features_stc=N_FEATURES_STC,\n",
    "    samples_per_epoch=N_SAMPLES,\n",
    "    batch_size=BATCH_SIZE\n",
    ")\n",
    "\n",
    "tuner = keras_tuner.BayesianOptimization(\n",
    "    hypermodel=lstm_hypermodel,\n",
    "    objective=keras_tuner.Objective(name='val_root_mean_squared_error', direction='min'),\n",
    "    max_trials=15,\n",
    "    directory='tuning',\n",
    "    project_name=PROJECT,\n",
    "    overwrite=False\n",
    ")\n",
    "\n",
    "tuner.reload()"
   ]
  },
  {
   "cell_type": "code",
   "execution_count": null,
   "metadata": {},
   "outputs": [],
   "source": [
    "def retrieve_tuning_summary(tuner: keras_tuner.Tuner) -> pd.DataFrame:\n",
    "\n",
    "    objective_name = tuner.oracle.objective.name\n",
    "\n",
    "    results = [\n",
    "        {\n",
    "            **{\"trial_id\": trial_id}, \n",
    "            **{\"objective_val\": trial.metrics.get_best_value(objective_name)}, \n",
    "            **trial.hyperparameters.values\n",
    "        } \n",
    "        for trial_id, trial \n",
    "        in tuner.oracle.trials.items()\n",
    "    ]\n",
    "\n",
    "    return pd.DataFrame(results).set_index('trial_id').sort_values('objective_val', ascending=True)\n",
    "\n",
    "tuning_summary = retrieve_tuning_summary(tuner)"
   ]
  },
  {
   "cell_type": "code",
   "execution_count": null,
   "metadata": {},
   "outputs": [],
   "source": [
    "tuning_summary"
   ]
  }
 ],
 "metadata": {
  "kernelspec": {
   "display_name": "Python 3",
   "language": "python",
   "name": "python3"
  },
  "language_info": {
   "codemirror_mode": {
    "name": "ipython",
    "version": 3
   },
   "file_extension": ".py",
   "mimetype": "text/x-python",
   "name": "python",
   "nbconvert_exporter": "python",
   "pygments_lexer": "ipython3",
   "version": "3.10.12"
  }
 },
 "nbformat": 4,
 "nbformat_minor": 2
}
