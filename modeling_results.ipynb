{
 "cells": [
  {
   "cell_type": "code",
   "execution_count": null,
   "metadata": {},
   "outputs": [],
   "source": [
    "import pickle\n",
    "import numpy as np\n",
    "import pandas as pd\n",
    "from project_functions.sample_feed_v1_multi import SampleFeed\n",
    "from project_functions import baseline\n",
    "import matplotlib.pyplot as plt\n",
    "from importlib import reload\n",
    "\n",
    "from keras.models import load_model\n",
    "from keras import losses\n",
    "from keras import optimizers\n",
    "from keras import metrics\n",
    "\n",
    "from modeling_v1_run import TRAINING_WINDOW_SIZE, PREDICTED_WINDOW_SIZE, N_SAMPLES"
   ]
  },
  {
   "cell_type": "markdown",
   "metadata": {},
   "source": [
    "## Final model selection"
   ]
  },
  {
   "cell_type": "code",
   "execution_count": null,
   "metadata": {},
   "outputs": [],
   "source": [
    "# Examine model history\n",
    "\n",
    "with open(\"models/history/comb_history0101.pk\", \"rb\") as file:\n",
    "    model_history = pickle.load(file)\n",
    "\n",
    "plt.plot(model_history.history['loss'], color='black')\n",
    "plt.plot(model_history.history['val_loss'], color='blue')"
   ]
  },
  {
   "cell_type": "code",
   "execution_count": null,
   "metadata": {},
   "outputs": [],
   "source": [
    "df_history = pd.DataFrame(model_history.history)\n",
    "df_history['epoch'] = pd.to_numeric(df_history.index) + 1"
   ]
  },
  {
   "cell_type": "code",
   "execution_count": null,
   "metadata": {},
   "outputs": [],
   "source": [
    "# Select the best performing model\n",
    "\n",
    "df_history.sort_values('val_root_mean_squared_error')[0:10]"
   ]
  },
  {
   "cell_type": "code",
   "execution_count": null,
   "metadata": {},
   "outputs": [],
   "source": [
    "# Load the chosen model\n",
    "\n",
    "model = load_model(\"models/checkpoints/comb_0101_45-0.080647.keras\")"
   ]
  },
  {
   "cell_type": "markdown",
   "metadata": {},
   "source": [
    "# Final model evaluation"
   ]
  },
  {
   "cell_type": "code",
   "execution_count": null,
   "metadata": {},
   "outputs": [],
   "source": [
    "# Build the test dataset (not used for model validation)\n",
    "\n",
    "features_test = dict(np.load(\"data/features_test.npz\", allow_pickle=True))\n",
    "\n",
    "with open(\"data/visits_scaler_test.pk\", \"rb\") as file:\n",
    "    visits_scaler_test = pickle.load(file)\n",
    "\n",
    "sample_feed = SampleFeed(\n",
    "    training_window_size = TRAINING_WINDOW_SIZE,\n",
    "    predicted_window_size = PREDICTED_WINDOW_SIZE,\n",
    "    samples_per_epoch = N_SAMPLES\n",
    "    )\n",
    "\n",
    "Xy_test = sample_feed.random_sample_array(features_test, samples_per_page=1, shuffle=False, seed=0)"
   ]
  },
  {
   "cell_type": "code",
   "execution_count": null,
   "metadata": {},
   "outputs": [],
   "source": [
    "# Evaluate model on the test dataset\n",
    "\n",
    "model.evaluate(*Xy_test)"
   ]
  },
  {
   "cell_type": "code",
   "execution_count": null,
   "metadata": {},
   "outputs": [],
   "source": [
    "# Make predictions and inverse scaling\n",
    "\n",
    "y_pred = model.predict(Xy_test[0])\n",
    "\n",
    "X_test_rescaled = visits_scaler_test. \\\n",
    "    inverse_transform(Xy_test[0][0][:,:,0])\n",
    "\n",
    "y_test_rescaled = visits_scaler_test. \\\n",
    "    inverse_transform(Xy_test[1])\n",
    "\n",
    "y_pred_rescaled = visits_scaler_test. \\\n",
    "    inverse_transform(y_pred)"
   ]
  },
  {
   "cell_type": "code",
   "execution_count": null,
   "metadata": {},
   "outputs": [],
   "source": [
    "# Utils for plotting\n",
    "\n",
    "def one_page_results(no):\n",
    "\n",
    "    X_emp_i = X_test_rescaled[no,:]\n",
    "    y_emp_i = y_test_rescaled[no,:]\n",
    "    y_pred_i = y_pred_rescaled[no,:]\n",
    "\n",
    "    xy_emp = np.concatenate([X_emp_i, y_emp_i.reshape(PREDICTED_WINDOW_SIZE)])\n",
    "    xy_pred = np.concatenate([np.full_like(X_emp_i[:-1], np.nan), X_emp_i[-1:], y_pred_i.reshape(PREDICTED_WINDOW_SIZE)])\n",
    "\n",
    "    return xy_emp, xy_pred\n",
    "\n",
    "def results_gen():\n",
    "\n",
    "    ips_arr = np.array(range(Xy_test[0][0].shape[0]))\n",
    "\n",
    "    np.random.seed(0)\n",
    "    np.random.shuffle(ips_arr)\n",
    "\n",
    "    for ip in ips_arr:\n",
    "        yield ip, one_page_results(ip)\n",
    "\n",
    "def plot_results(xy_scaled_emp, xy_scaled_pred):\n",
    "\n",
    "    plt.figure(figsize=(20, 8))\n",
    "    plt.plot(xy_scaled_emp, color=\"black\")\n",
    "    plt.plot(xy_scaled_pred, color=\"blue\")\n",
    "    plt.show()\n",
    "\n",
    "results_show_iter = results_gen()"
   ]
  },
  {
   "cell_type": "code",
   "execution_count": null,
   "metadata": {},
   "outputs": [],
   "source": [
    "# Browsing results for different Wiki pages\n",
    "\n",
    "ip, (xy_scaled_emp, xy_scaled_pred) = next(results_show_iter)\n",
    "\n",
    "print(ip)\n",
    "plot_results(xy_scaled_emp, xy_scaled_pred)"
   ]
  },
  {
   "cell_type": "code",
   "execution_count": null,
   "metadata": {},
   "outputs": [],
   "source": [
    "# Select representative examples for results description\n",
    "\n",
    "representative_examples = [\n",
    "    44148, 61555, 49345, 42420, 5726,\n",
    "    9709, 66087, 17384, 2534, 17719,\n",
    "    45459, 18972, 6287, 23952, 33636, \n",
    "    36134, 36972, 56528, 9675, 18508, \n",
    "    14268, 25413, 34399, 51223, 3066, \n",
    "    26959, 26382, 44801, 64919, 18078\n",
    "    ]"
   ]
  },
  {
   "cell_type": "code",
   "execution_count": null,
   "metadata": {},
   "outputs": [],
   "source": [
    "# Plot with some examples for results description\n",
    "\n",
    "x_subplots = 6\n",
    "y_subplots = 5\n",
    "\n",
    "fig, axs = plt.subplots(x_subplots, y_subplots, sharex=True, sharey=False, figsize=(4*x_subplots,4*y_subplots))\n",
    "\n",
    "ips = iter(representative_examples)\n",
    "\n",
    "for ix in range(x_subplots):\n",
    "    for iy in range(y_subplots):\n",
    "        \n",
    "        ip = next(ips)\n",
    "        \n",
    "        X_emp_i = X_test_rescaled[ip,:]\n",
    "        y_emp_i = y_test_rescaled[ip,:]\n",
    "        y_pred_i = y_pred_rescaled[ip,:]\n",
    "\n",
    "        xy_emp = np.concatenate([X_emp_i, y_emp_i.reshape(PREDICTED_WINDOW_SIZE)])\n",
    "        xy_pred = np.concatenate([np.full_like(X_emp_i[:-1], np.nan), X_emp_i[-1:], y_pred_i.reshape(PREDICTED_WINDOW_SIZE)])\n",
    "\n",
    "        axs[ix,iy].plot(xy_emp, color=\"black\")\n",
    "        axs[ix,iy].plot(xy_pred, color=\"blue\")"
   ]
  },
  {
   "cell_type": "markdown",
   "metadata": {},
   "source": [
    "## Baseline models"
   ]
  },
  {
   "cell_type": "code",
   "execution_count": null,
   "metadata": {},
   "outputs": [],
   "source": [
    "# Build and evaluate the Naive Model\n",
    "\n",
    "naive_model = baseline.NaiveModel(PREDICTED_WINDOW_SIZE)\n",
    "\n",
    "naive_model.compile(\n",
    "    loss=losses.Huber(0.25), \n",
    "    optimizer=optimizers.Adam(learning_rate=1e-3), \n",
    "    metrics=metrics.RootMeanSquaredError()\n",
    "    )\n",
    "\n",
    "y_pred_naive = naive_model.predict(Xy_test[0][0])\n",
    "\n",
    "X_test_rescaled = visits_scaler_test. \\\n",
    "    inverse_transform(Xy_test[0][0][:,:,0])\n",
    "\n",
    "y_test_rescaled = visits_scaler_test. \\\n",
    "    inverse_transform(Xy_test[1])\n",
    "\n",
    "y_pred_naive_rescaled = visits_scaler_test. \\\n",
    "    inverse_transform(y_pred_naive)"
   ]
  },
  {
   "cell_type": "code",
   "execution_count": null,
   "metadata": {},
   "outputs": [],
   "source": [
    "naive_model.evaluate(Xy_test[0][0], Xy_test[1])"
   ]
  },
  {
   "cell_type": "code",
   "execution_count": null,
   "metadata": {},
   "outputs": [],
   "source": [
    "# Build and evaluate the Random Model\n",
    "\n",
    "random_model = baseline.RandomModel(PREDICTED_WINDOW_SIZE)\n",
    "\n",
    "random_model.compile(\n",
    "    loss=losses.Huber(0.25), \n",
    "    optimizer=optimizers.Adam(learning_rate=1e-3), \n",
    "    metrics=metrics.RootMeanSquaredError()\n",
    "    )\n",
    "\n",
    "y_pred_random = random_model.predict(Xy_test[0][0])\n",
    "\n",
    "X_test_rescaled = visits_scaler_test. \\\n",
    "    inverse_transform(Xy_test[0][0][:,:,0])\n",
    "\n",
    "y_test_rescaled = visits_scaler_test. \\\n",
    "    inverse_transform(Xy_test[1])\n",
    "\n",
    "y_pred_random_rescaled = visits_scaler_test. \\\n",
    "    inverse_transform(y_pred_random)"
   ]
  },
  {
   "cell_type": "code",
   "execution_count": null,
   "metadata": {},
   "outputs": [],
   "source": [
    "random_model.evaluate(Xy_test[0][0], Xy_test[1])"
   ]
  },
  {
   "cell_type": "code",
   "execution_count": null,
   "metadata": {},
   "outputs": [],
   "source": [
    "# Plot baseline models\n",
    "\n",
    "x_subplots = 5\n",
    "y_subplots = 5\n",
    "\n",
    "fig, axs = plt.subplots(x_subplots, y_subplots, sharex=True, sharey=False, figsize=(4*x_subplots,4*y_subplots))\n",
    "\n",
    "ips = iter(representative_examples)\n",
    "\n",
    "y_pred_random_rescaled\n",
    "\n",
    "for ix in range(x_subplots):\n",
    "    for iy in range(y_subplots):\n",
    "        \n",
    "        ip = next(ips)\n",
    "        \n",
    "        X_emp_i = X_test_rescaled[ip,:]\n",
    "        y_emp_i = y_test_rescaled[ip,:]\n",
    "        y_pred_naive_i = y_pred_naive_rescaled[ip,:]\n",
    "        y_pred_random_i = y_pred_random_rescaled[ip,:]\n",
    "\n",
    "        xy_emp = np.concatenate([X_emp_i, y_emp_i.reshape(PREDICTED_WINDOW_SIZE)])\n",
    "        xy_pred_naive = np.concatenate([np.full_like(X_emp_i[:-1], np.nan), X_emp_i[-1:], y_pred_naive_i.reshape(PREDICTED_WINDOW_SIZE)])\n",
    "        xy_pred_random = np.concatenate([np.full_like(X_emp_i[:-1], np.nan), X_emp_i[-1:], y_pred_random_i.reshape(PREDICTED_WINDOW_SIZE)])\n",
    "\n",
    "        axs[ix,iy].plot(xy_emp, color=\"black\")\n",
    "        axs[ix,iy].plot(xy_pred_random, color=(0.9, 0.6, 0.1))\n",
    "        axs[ix,iy].plot(xy_pred_naive, color=(0.9, 0.1, 0.0))"
   ]
  }
 ],
 "metadata": {
  "kernelspec": {
   "display_name": "Python 3",
   "language": "python",
   "name": "python3"
  },
  "language_info": {
   "codemirror_mode": {
    "name": "ipython",
    "version": 3
   },
   "file_extension": ".py",
   "mimetype": "text/x-python",
   "name": "python",
   "nbconvert_exporter": "python",
   "pygments_lexer": "ipython3",
   "version": "3.10.12"
  }
 },
 "nbformat": 4,
 "nbformat_minor": 2
}
