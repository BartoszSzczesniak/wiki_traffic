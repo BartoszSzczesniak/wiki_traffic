{
 "cells": [
  {
   "cell_type": "markdown",
   "metadata": {},
   "source": [
    "## Results and conclusions:\n",
    "\n",
    "Model is rather good at forecasting future levels of traffic, but in this form it fails to capture seasonality.\n",
    "\n",
    "\n",
    "- Even very simple models were able to achieve quite good results in just a few epochs.\n",
    "- However they tend to predict the same value for all 7 predicted days\n",
    "- This means that initial models failed to include seasonalities and more complex patterns\n",
    "- This showed that modelling general level of future traffic is quite easy,\n",
    "- thus while choosing model architecture and tuning the hyperparameters we were focusing mostly on tackling more challenging task which was learning seasonalities and complex patterns."
   ]
  },
  {
   "cell_type": "code",
   "execution_count": null,
   "metadata": {},
   "outputs": [],
   "source": [
    "import pickle\n",
    "import numpy as np\n",
    "from project_functions.sample_feed_v1_multi import SampleFeed\n",
    "import matplotlib.pyplot as plt"
   ]
  },
  {
   "cell_type": "code",
   "execution_count": null,
   "metadata": {},
   "outputs": [],
   "source": [
    "# Global parameters\n",
    "\n",
    "TRAINING_WINDOW_SIZE = 90\n",
    "PREDICTED_WINDOW_SIZE = 7\n",
    "N_SAMPLES = 4\n",
    "N_EPOCHS = 30\n",
    "BATCH_SIZE = 8"
   ]
  },
  {
   "cell_type": "code",
   "execution_count": null,
   "metadata": {},
   "outputs": [],
   "source": [
    "# Build test dataset\n",
    "\n",
    "features_test = dict(np.load(\"data/features_test.npz\", allow_pickle=True))\n",
    "\n",
    "with open(\"data/visits_scaler_test.pk\", \"rb\") as file:\n",
    "    visits_scaler_test = pickle.load(file)\n",
    "\n",
    "sample_feed = SampleFeed(\n",
    "    training_window_size = TRAINING_WINDOW_SIZE,\n",
    "    predicted_window_size = PREDICTED_WINDOW_SIZE,\n",
    "    samples_per_epoch = N_SAMPLES\n",
    "    )\n",
    "\n",
    "Xy_test = sample_feed.random_sample_array(features_test, samples_per_page=1, shuffle=False, seed=0)"
   ]
  },
  {
   "cell_type": "code",
   "execution_count": null,
   "metadata": {},
   "outputs": [],
   "source": [
    "from keras.models import  load_model\n",
    "\n",
    "# Select and load model\n",
    "\n",
    "model = load_model(\"models/checkpoints/122830-0.0808.keras\")"
   ]
  },
  {
   "cell_type": "code",
   "execution_count": null,
   "metadata": {},
   "outputs": [],
   "source": [
    "model.evaluate(*Xy_test)"
   ]
  },
  {
   "cell_type": "code",
   "execution_count": null,
   "metadata": {},
   "outputs": [],
   "source": [
    "y_pred = model.predict(Xy_test[0])\n",
    "\n",
    "X_test_rescaled = visits_scaler_test. \\\n",
    "    inverse_transform(Xy_test[0][0][:,:,0])\n",
    "\n",
    "y_test_rescaled = visits_scaler_test. \\\n",
    "    inverse_transform(Xy_test[1])\n",
    "\n",
    "y_pred_rescaled = visits_scaler_test. \\\n",
    "    inverse_transform(y_pred)"
   ]
  },
  {
   "cell_type": "code",
   "execution_count": null,
   "metadata": {},
   "outputs": [],
   "source": [
    "x_subplots = 5\n",
    "y_subplots = 5\n",
    "\n",
    "fig, axs = plt.subplots(x_subplots, y_subplots, sharex=True, sharey=False, figsize=(4*x_subplots,4*y_subplots))\n",
    "\n",
    "ips = iter(range(Xy_test[0][0].shape[0]))\n",
    "\n",
    "for ix in range(x_subplots):\n",
    "    for iy in range(y_subplots):\n",
    "        \n",
    "        ip = next(ips)\n",
    "        \n",
    "        X_emp_i = X_test_rescaled[ip,:]\n",
    "        y_emp_i = y_test_rescaled[ip,:]\n",
    "        y_pred_i = y_pred_rescaled[ip,:]\n",
    "\n",
    "        xy_emp = np.concatenate([X_emp_i, y_emp_i.reshape(PREDICTED_WINDOW_SIZE)])\n",
    "        xy_pred = np.concatenate([np.full_like(X_emp_i[:-1], np.nan), X_emp_i[-1:], y_pred_i.reshape(PREDICTED_WINDOW_SIZE)])\n",
    "\n",
    "        axs[ix,iy].plot(xy_emp, color=\"black\")\n",
    "        axs[ix,iy].plot(xy_pred, color=\"blue\")"
   ]
  },
  {
   "cell_type": "code",
   "execution_count": null,
   "metadata": {},
   "outputs": [],
   "source": [
    "def one_page_results(no):\n",
    "\n",
    "    X_emp_i = X_test_rescaled[no,:]\n",
    "    y_emp_i = y_test_rescaled[no,:]\n",
    "    y_pred_i = y_pred_rescaled[no,:]\n",
    "\n",
    "    xy_emp = np.concatenate([X_emp_i, y_emp_i.reshape(PREDICTED_WINDOW_SIZE)])\n",
    "    xy_pred = np.concatenate([np.full_like(X_emp_i[:-1], np.nan), X_emp_i[-1:], y_pred_i.reshape(PREDICTED_WINDOW_SIZE)])\n",
    "\n",
    "    return xy_emp, xy_pred\n",
    "\n",
    "def results_gen():\n",
    "    for ip in range(Xy_test[0][0].shape[0]):\n",
    "        yield one_page_results(ip)\n",
    "\n",
    "def plot_results(xy_scaled_emp, xy_scaled_pred):\n",
    "\n",
    "    print(xy_scaled_pred[-PREDICTED_WINDOW_SIZE:])\n",
    "\n",
    "    plt.figure(figsize=(20, 8))\n",
    "    plt.plot(xy_scaled_emp, color=\"black\")\n",
    "    plt.plot(xy_scaled_pred, color=\"blue\")\n",
    "    plt.show()\n",
    "\n",
    "results_show_iter = results_gen()"
   ]
  },
  {
   "cell_type": "code",
   "execution_count": null,
   "metadata": {},
   "outputs": [],
   "source": [
    "xy_scaled_emp, xy_scaled_pred = next(results_show_iter)\n",
    "\n",
    "plot_results(xy_scaled_emp, xy_scaled_pred)"
   ]
  },
  {
   "cell_type": "code",
   "execution_count": null,
   "metadata": {},
   "outputs": [],
   "source": [
    "scope = y_pred_rescaled.max(axis=1) - y_pred_rescaled.min(axis=1)\n",
    "scope_perc = scope / y_pred_rescaled.mean(axis=1)\n",
    "\n",
    "np.median(scope_perc)"
   ]
  },
  {
   "cell_type": "code",
   "execution_count": null,
   "metadata": {},
   "outputs": [],
   "source": [
    "order = np.argsort(scope)[::-1]\n",
    "iter_order = iter(order)"
   ]
  },
  {
   "cell_type": "code",
   "execution_count": null,
   "metadata": {},
   "outputs": [],
   "source": [
    "max_scope = next(iter_order)\n",
    "plot_results(*one_page_results(max_scope))"
   ]
  }
 ],
 "metadata": {
  "kernelspec": {
   "display_name": "Python 3",
   "language": "python",
   "name": "python3"
  },
  "language_info": {
   "codemirror_mode": {
    "name": "ipython",
    "version": 3
   },
   "file_extension": ".py",
   "mimetype": "text/x-python",
   "name": "python",
   "nbconvert_exporter": "python",
   "pygments_lexer": "ipython3",
   "version": "3.10.12"
  }
 },
 "nbformat": 4,
 "nbformat_minor": 2
}
