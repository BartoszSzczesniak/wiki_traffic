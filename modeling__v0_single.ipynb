{
 "cells": [
  {
   "cell_type": "code",
   "execution_count": null,
   "metadata": {},
   "outputs": [],
   "source": [
    "import numpy as np\n",
    "from datetime import datetime\n",
    "from matplotlib import pyplot as plt\n",
    "from project_functions.sample_feed_v0_single import SampleFeed"
   ]
  },
  {
   "cell_type": "code",
   "execution_count": null,
   "metadata": {},
   "outputs": [],
   "source": [
    "# Global parameters\n",
    "\n",
    "TRAINING_WINDOW_SIZE = 90\n",
    "PREDICTED_WINDOW_SIZE = 7\n",
    "N_SAMPLES = 4\n",
    "N_EPOCHS = 30\n",
    "BATCH_SIZE = 8"
   ]
  },
  {
   "cell_type": "code",
   "execution_count": null,
   "metadata": {},
   "outputs": [],
   "source": [
    "today_label = datetime.today().strftime(\"%m%d\")\n",
    "\n",
    "# Raw data\n",
    "\n",
    "features_train = dict(np.load(\"data/features_train.npz\", allow_pickle=True))\n",
    "features_valid = dict(np.load(\"data/features_valid.npz\", allow_pickle=True))\n",
    "\n",
    "# Calculated parameters\n",
    "\n",
    "n_rows_train = features_train['visits'].shape[0]\n",
    "n_features = features_train['time'].shape[1] + features_train['page'].shape[1] + 1\n",
    "\n",
    "steps_per_epoch = round(n_rows_train * N_SAMPLES / BATCH_SIZE)\n",
    "total_samples_per_page = N_SAMPLES * N_EPOCHS"
   ]
  },
  {
   "cell_type": "code",
   "execution_count": null,
   "metadata": {},
   "outputs": [],
   "source": [
    "# Sample Feed\n",
    "\n",
    "sample_feed = SampleFeed(\n",
    "    training_window_size = TRAINING_WINDOW_SIZE,\n",
    "    predicted_window_size = PREDICTED_WINDOW_SIZE,\n",
    "    samples_per_epoch = N_SAMPLES\n",
    "    )"
   ]
  },
  {
   "cell_type": "code",
   "execution_count": null,
   "metadata": {},
   "outputs": [],
   "source": [
    "# Prepare data\n",
    "\n",
    "Xy_train_gen = sample_feed.random_sample_stream(features_train)\n",
    "Xy_valid = sample_feed.random_sample_array(features_valid, samples_per_page=1, shuffle=False, seed=0)"
   ]
  },
  {
   "cell_type": "code",
   "execution_count": null,
   "metadata": {},
   "outputs": [],
   "source": [
    "from keras import Sequential\n",
    "from keras import layers\n",
    "from keras import losses\n",
    "from keras import metrics\n",
    "from keras import optimizers\n",
    "from keras import callbacks\n",
    "from keras import regularizers\n",
    "\n",
    "model = Sequential()\n",
    "model.add(layers.InputLayer(input_shape=(TRAINING_WINDOW_SIZE, n_features)))\n",
    "model.add(layers.LSTM(\n",
    "    units=64, \n",
    "    return_sequences=True, \n",
    "    recurrent_regularizer=regularizers.L2(0.01)\n",
    "    ))\n",
    "model.add(layers.LSTM(\n",
    "    units=32, \n",
    "    return_sequences=False,\n",
    "    recurrent_regularizer=regularizers.L2(0.01)\n",
    "    ))\n",
    "model.add(layers.Dense(\n",
    "    units=16, \n",
    "    activation='relu'\n",
    "    ))\n",
    "model.add(layers.Dropout(0.1))\n",
    "model.add(layers.Dense(PREDICTED_WINDOW_SIZE, 'sigmoid'))\n",
    "\n",
    "model.compile(\n",
    "    loss=losses.Huber(0.25), \n",
    "    optimizer=optimizers.Adam(learning_rate=1e-3), \n",
    "    metrics=metrics.RootMeanSquaredError()\n",
    "    )\n",
    "\n",
    "model.summary()\n",
    "\n",
    "model_callbacks = [\n",
    "    callbacks.ReduceLROnPlateau(monitor='val_loss', factor=0.1, patience=4, min_lr=1e-5),\n",
    "    callbacks.EarlyStopping(monitor='val_loss', patience=8),\n",
    "    callbacks.ModelCheckpoint(filepath=f\"models/checkpoints/{today_label}\" + \"{epoch:02d}-{val_root_mean_squared_error:.4f}.keras\", monitor='val_loss')\n",
    "]"
   ]
  },
  {
   "cell_type": "code",
   "execution_count": null,
   "metadata": {},
   "outputs": [],
   "source": [
    "model_history = model.fit(\n",
    "    x = Xy_train_gen,\n",
    "    validation_data = Xy_valid,\n",
    "    steps_per_epoch = steps_per_epoch,\n",
    "    epochs = N_EPOCHS,\n",
    "    batch_size = BATCH_SIZE,\n",
    "    callbacks = model_callbacks\n",
    "    )"
   ]
  },
  {
   "cell_type": "code",
   "execution_count": null,
   "metadata": {},
   "outputs": [],
   "source": [
    "model.save(f\"models/best_{today_label}\", overwrite=False)"
   ]
  },
  {
   "cell_type": "code",
   "execution_count": null,
   "metadata": {},
   "outputs": [],
   "source": [
    "plt.plot(model_history.history['loss'], color='black')\n",
    "plt.plot(model_history.history['val_loss'], color='blue')"
   ]
  }
 ],
 "metadata": {
  "kernelspec": {
   "display_name": "Python 3",
   "language": "python",
   "name": "python3"
  },
  "language_info": {
   "codemirror_mode": {
    "name": "ipython",
    "version": 3
   },
   "file_extension": ".py",
   "mimetype": "text/x-python",
   "name": "python",
   "nbconvert_exporter": "python",
   "pygments_lexer": "ipython3",
   "version": "3.10.12"
  }
 },
 "nbformat": 4,
 "nbformat_minor": 2
}
